{
 "cells": [
  {
   "cell_type": "code",
   "execution_count": 1,
   "id": "f90e6a80-ab80-4d4d-9412-e19945cc2f15",
   "metadata": {
    "scrolled": true
   },
   "outputs": [
    {
     "name": "stdout",
     "output_type": "stream",
     "text": [
      "Requirement already satisfied: Flask in /Library/Frameworks/Python.framework/Versions/3.10/lib/python3.10/site-packages (2.2.5)\r\n",
      "Requirement already satisfied: Werkzeug>=2.2.2 in /Library/Frameworks/Python.framework/Versions/3.10/lib/python3.10/site-packages (from Flask) (2.2.3)\r\n",
      "Requirement already satisfied: Jinja2>=3.0 in /Library/Frameworks/Python.framework/Versions/3.10/lib/python3.10/site-packages (from Flask) (3.1.2)\r\n",
      "Requirement already satisfied: itsdangerous>=2.0 in /Library/Frameworks/Python.framework/Versions/3.10/lib/python3.10/site-packages (from Flask) (2.1.2)\r\n",
      "Requirement already satisfied: click>=8.0 in /Library/Frameworks/Python.framework/Versions/3.10/lib/python3.10/site-packages (from Flask) (8.1.3)\r\n",
      "Requirement already satisfied: MarkupSafe>=2.0 in /Library/Frameworks/Python.framework/Versions/3.10/lib/python3.10/site-packages (from Jinja2>=3.0->Flask) (2.1.2)\r\n"
     ]
    }
   ],
   "source": [
    "!pip install Flask"
   ]
  },
  {
   "cell_type": "code",
   "execution_count": 3,
   "id": "1f597aec",
   "metadata": {},
   "outputs": [],
   "source": [
    "import requests\n",
    "import json"
   ]
  },
  {
   "cell_type": "code",
   "execution_count": 7,
   "id": "6a343c5b-7032-4269-8de1-e2c37f7c44ca",
   "metadata": {},
   "outputs": [
    {
     "name": "stdout",
     "output_type": "stream",
     "text": [
      "all_positive test status_code: 200, response: {\n",
      "  \"volume\": 30217\n",
      "}\n",
      "\n",
      "partial_negative test status_code: 400, response: {\n",
      "  \"error\": \"vol_moving_avg and adj_close_rolling_med should be of int/float type\"\n",
      "}\n",
      "\n"
     ]
    }
   ],
   "source": [
    "def all_positive():\n",
    "    url = 'http://localhost:8000/predict?vol_moving_avg=20650&adj_close_rolling_med=0.97'\n",
    "    res = requests.get(url)\n",
    "    print(\"all_positive test status_code: %d, response: %s\" % (res.status_code, res.text))\n",
    "\n",
    "\n",
    "def partial_negative():\n",
    "    url = 'http://localhost:8000/predict?vol_moving_avg=ab&adj_close_rolling_med=0.97'\n",
    "    res = requests.get(url)\n",
    "    print(\"partial_negative test status_code: %d, response: %s\" % (res.status_code, res.text))\n",
    "\n",
    "all_positive() \n",
    "partial_negative()    "
   ]
  },
  {
   "cell_type": "code",
   "execution_count": null,
   "id": "349db9f4",
   "metadata": {},
   "outputs": [],
   "source": []
  }
 ],
 "metadata": {
  "kernelspec": {
   "display_name": "Python 3 (ipykernel)",
   "language": "python",
   "name": "python3"
  },
  "language_info": {
   "codemirror_mode": {
    "name": "ipython",
    "version": 3
   },
   "file_extension": ".py",
   "mimetype": "text/x-python",
   "name": "python",
   "nbconvert_exporter": "python",
   "pygments_lexer": "ipython3",
   "version": "3.10.11"
  }
 },
 "nbformat": 4,
 "nbformat_minor": 5
}
